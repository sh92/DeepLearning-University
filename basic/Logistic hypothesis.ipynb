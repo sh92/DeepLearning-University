{
 "cells": [
  {
   "cell_type": "code",
   "execution_count": 1,
   "metadata": {},
   "outputs": [],
   "source": [
    "import tensorflow as tf\n",
    "import matplotlib.pyplot as plt\n",
    "import numpy as np"
   ]
  },
  {
   "cell_type": "code",
   "execution_count": 2,
   "metadata": {},
   "outputs": [],
   "source": [
    "data = np.loadtxt(\"./magic.csv\", delimiter=\",\", dtype = np.float32)"
   ]
  },
  {
   "cell_type": "code",
   "execution_count": 3,
   "metadata": {},
   "outputs": [
    {
     "data": {
      "text/plain": [
       "15216.0"
      ]
     },
     "execution_count": 3,
     "metadata": {},
     "output_type": "execute_result"
    }
   ],
   "source": [
    "len(data)*4/5"
   ]
  },
  {
   "cell_type": "code",
   "execution_count": 4,
   "metadata": {},
   "outputs": [],
   "source": [
    "idx = int(len(data)*4/5)"
   ]
  },
  {
   "cell_type": "code",
   "execution_count": 5,
   "metadata": {},
   "outputs": [],
   "source": [
    "train_data = data[:idx]\n",
    "test_data = data[idx:]"
   ]
  },
  {
   "cell_type": "code",
   "execution_count": 6,
   "metadata": {},
   "outputs": [],
   "source": [
    "train_data_x = train_data[:, 0:-1]\n",
    "train_data_y = train_data[:, [-1]]"
   ]
  },
  {
   "cell_type": "code",
   "execution_count": 7,
   "metadata": {},
   "outputs": [],
   "source": [
    "test_data_x = test_data[:, 0:-1]\n",
    "test_data_y = test_data[:, [-1]]"
   ]
  },
  {
   "cell_type": "code",
   "execution_count": 8,
   "metadata": {},
   "outputs": [
    {
     "data": {
      "text/plain": [
       "(15216, 10)"
      ]
     },
     "execution_count": 8,
     "metadata": {},
     "output_type": "execute_result"
    }
   ],
   "source": [
    "train_data_x.shape"
   ]
  },
  {
   "cell_type": "code",
   "execution_count": 9,
   "metadata": {},
   "outputs": [
    {
     "data": {
      "text/plain": [
       "(15216, 1)"
      ]
     },
     "execution_count": 9,
     "metadata": {},
     "output_type": "execute_result"
    }
   ],
   "source": [
    "train_data_y.shape"
   ]
  },
  {
   "cell_type": "code",
   "execution_count": 10,
   "metadata": {},
   "outputs": [],
   "source": [
    "nb_classes = 2"
   ]
  },
  {
   "cell_type": "code",
   "execution_count": 11,
   "metadata": {},
   "outputs": [],
   "source": [
    "X = tf.placeholder(tf.float32, shape=[None, 10])\n",
    "Y = tf.placeholder(tf.float32, shape=[None, 1])\n",
    "\n",
    "W = tf.Variable(tf.random_normal([10, nb_classes]), name='weight')\n",
    "b = tf.Variable(tf.random_normal([nb_classes]), name='bias')"
   ]
  },
  {
   "cell_type": "code",
   "execution_count": 12,
   "metadata": {},
   "outputs": [],
   "source": [
    "hypothesis = tf.sigmoid(tf.matmul(X, W) + b)\n",
    "cost = -tf.reduce_mean(Y * tf.log(hypothesis) + (1 - Y) *tf.log(1 - hypothesis))"
   ]
  },
  {
   "cell_type": "code",
   "execution_count": 13,
   "metadata": {},
   "outputs": [],
   "source": [
    "train = tf.train.GradientDescentOptimizer(learning_rate=0.01).minimize(cost)"
   ]
  },
  {
   "cell_type": "code",
   "execution_count": 14,
   "metadata": {},
   "outputs": [],
   "source": [
    "predicted = tf.cast(hypothesis > 0.5, dtype=tf.float32)\n",
    "accuracy = tf.reduce_mean(tf.cast(tf.equal(predicted, Y), dtype=tf.float32))"
   ]
  },
  {
   "cell_type": "code",
   "execution_count": null,
   "metadata": {},
   "outputs": [
    {
     "name": "stdout",
     "output_type": "stream",
     "text": [
      "Steps 10000  cost:  0.540889 \n",
      "Accuracy:  0.745301\n",
      "Steps 11000  cost:  0.53625 \n",
      "Accuracy:  0.74747\n",
      "Steps 12000  cost:  0.532155 \n",
      "Accuracy:  0.750624\n",
      "Steps 13000  cost:  0.528516 \n",
      "Accuracy:  0.752267\n",
      "Steps 14000  cost:  0.525263 \n",
      "Accuracy:  0.754305\n",
      "Steps 15000  cost:  0.522338 \n",
      "Accuracy:  0.755521\n",
      "Steps 16000  cost:  0.519697 \n",
      "Accuracy:  0.756145\n",
      "Steps 17000  cost:  0.517297 \n",
      "Accuracy:  0.757591\n",
      "Steps 18000  cost:  0.515108 \n",
      "Accuracy:  0.759135\n",
      "Steps 19000  cost:  0.513101 \n",
      "Accuracy:  0.759792\n",
      "Steps 20000  cost:  0.511254 \n",
      "Accuracy:  0.761172\n",
      "Steps 21000  cost:  0.509547 \n",
      "Accuracy:  0.761961\n",
      "Steps 22000  cost:  0.507963 \n",
      "Accuracy:  0.762684\n",
      "Steps 23000  cost:  0.506489 \n",
      "Accuracy:  0.763506\n",
      "Steps 24000  cost:  0.505111 \n",
      "Accuracy:  0.763998\n",
      "Steps 25000  cost:  0.503821 \n",
      "Accuracy:  0.764853\n",
      "Steps 26000  cost:  0.502608 \n",
      "Accuracy:  0.765641\n",
      "Steps 27000  cost:  0.501466 \n",
      "Accuracy:  0.766594\n",
      "Steps 28000  cost:  0.500387 \n",
      "Accuracy:  0.767186\n",
      "Steps 29000  cost:  0.499366 \n",
      "Accuracy:  0.768007\n",
      "Steps 30000  cost:  0.498397 \n",
      "Accuracy:  0.768632\n",
      "Steps 31000  cost:  0.497476 \n",
      "Accuracy:  0.76919\n",
      "Steps 32000  cost:  0.496597 \n",
      "Accuracy:  0.769716\n",
      "Steps 33000  cost:  0.49576 \n",
      "Accuracy:  0.770176\n",
      "Steps 34000  cost:  0.494959 \n",
      "Accuracy:  0.770472\n",
      "Steps 35000  cost:  0.494192 \n",
      "Accuracy:  0.771162\n",
      "Steps 36000  cost:  0.493457 \n",
      "Accuracy:  0.772049\n",
      "Steps 37000  cost:  0.492752 \n",
      "Accuracy:  0.772673\n",
      "Steps 38000  cost:  0.492072 \n",
      "Accuracy:  0.773232\n",
      "Steps 39000  cost:  0.491419 \n",
      "Accuracy:  0.773725\n",
      "Steps 40000  cost:  0.49079 \n",
      "Accuracy:  0.774185\n",
      "Steps 41000  cost:  0.490182 \n",
      "Accuracy:  0.774448\n",
      "Steps 42000  cost:  0.489595 \n",
      "Accuracy:  0.774875\n",
      "Steps 43000  cost:  0.489027 \n",
      "Accuracy:  0.775302\n",
      "Steps 44000  cost:  0.488479 \n",
      "Accuracy:  0.775598\n",
      "Steps 45000  cost:  0.487948 \n",
      "Accuracy:  0.776255\n",
      "Steps 46000  cost:  0.487432 \n",
      "Accuracy:  0.776847\n",
      "Steps 47000  cost:  0.486934 \n",
      "Accuracy:  0.777241\n",
      "Steps 48000  cost:  0.486449 \n",
      "Accuracy:  0.777701\n",
      "Steps 49000  cost:  0.485979 \n",
      "Accuracy:  0.778325\n",
      "Steps 50000  cost:  0.485521 \n",
      "Accuracy:  0.778621\n",
      "Steps 51000  cost:  0.485077 \n",
      "Accuracy:  0.779344\n",
      "Steps 52000  cost:  0.484644 \n",
      "Accuracy:  0.779541\n",
      "Steps 53000  cost:  0.484224 \n",
      "Accuracy:  0.779738\n",
      "Steps 54000  cost:  0.483813 \n",
      "Accuracy:  0.779903\n",
      "Steps 55000  cost:  0.483414 \n",
      "Accuracy:  0.780001\n",
      "Steps 56000  cost:  0.483025 \n",
      "Accuracy:  0.7801\n",
      "Steps 57000  cost:  0.482645 \n",
      "Accuracy:  0.780396\n",
      "Steps 58000  cost:  0.482275 \n",
      "Accuracy:  0.780626\n",
      "Steps 59000  cost:  0.481913 \n",
      "Accuracy:  0.781119\n",
      "Steps 60000  cost:  0.48156 \n",
      "Accuracy:  0.781381\n",
      "Steps 61000  cost:  0.481216 \n",
      "Accuracy:  0.781841\n",
      "Steps 62000  cost:  0.480879 \n",
      "Accuracy:  0.782236\n",
      "Steps 63000  cost:  0.48055 \n",
      "Accuracy:  0.782334\n",
      "Steps 64000  cost:  0.480228 \n",
      "Accuracy:  0.7824\n",
      "Steps 65000  cost:  0.479913 \n",
      "Accuracy:  0.782499\n",
      "Steps 66000  cost:  0.479606 \n",
      "Accuracy:  0.782696\n",
      "Steps 67000  cost:  0.479305 \n",
      "Accuracy:  0.782992\n",
      "Steps 68000  cost:  0.47901 \n",
      "Accuracy:  0.783123\n",
      "Steps 69000  cost:  0.47872 \n",
      "Accuracy:  0.78332\n",
      "Steps 70000  cost:  0.478438 \n",
      "Accuracy:  0.78355\n",
      "Steps 71000  cost:  0.478161 \n",
      "Accuracy:  0.783846\n",
      "Steps 72000  cost:  0.477891 \n",
      "Accuracy:  0.783879\n",
      "Steps 73000  cost:  0.477625 \n",
      "Accuracy:  0.783945\n",
      "Steps 74000  cost:  0.477364 \n",
      "Accuracy:  0.783945\n",
      "Steps 75000  cost:  0.477109 \n",
      "Accuracy:  0.78401\n",
      "Steps 76000  cost:  0.476858 \n",
      "Accuracy:  0.784109\n",
      "Steps 77000  cost:  0.476613 \n",
      "Accuracy:  0.784339\n",
      "Steps 78000  cost:  0.476372 \n",
      "Accuracy:  0.784437\n",
      "Steps 79000  cost:  0.476136 \n",
      "Accuracy:  0.78447\n",
      "Steps 80000  cost:  0.475904 \n",
      "Accuracy:  0.784602\n",
      "Steps 81000  cost:  0.475676 \n",
      "Accuracy:  0.784832\n",
      "Steps 82000  cost:  0.475452 \n",
      "Accuracy:  0.784963\n",
      "Steps 83000  cost:  0.475233 \n",
      "Accuracy:  0.785128\n",
      "Steps 84000  cost:  0.475018 \n",
      "Accuracy:  0.785259\n",
      "Steps 85000  cost:  0.474806 \n",
      "Accuracy:  0.785259\n",
      "Steps 86000  cost:  0.474598 \n",
      "Accuracy:  0.785259\n"
     ]
    }
   ],
   "source": [
    "cost_list=[]\n",
    "with tf.Session() as sess: \n",
    "    sess.run(tf.global_variables_initializer())\n",
    "    feed = {X: train_data_x, Y: train_data_y}\n",
    "    for step in range(100001):\n",
    "        sess.run(train, feed_dict=feed)\n",
    "        if step < 10000:\n",
    "            continue\n",
    "        if step % 1000 == 0:\n",
    "            c, a = sess.run([cost , accuracy], feed_dict=feed)\n",
    "            print(\"Steps\", step, \" cost: \", c, \"\\nAccuracy: \", a)\n",
    "            cost_list.append(c)\n",
    "    print(\"\")\n",
    "    print(\"#### Test ####\")\n",
    "    h, c, a = sess.run([hypothesis, predicted, accuracy], feed_dict={X:test_data_x, Y:test_data_y})\n",
    "    print( h,\"\\nAccuracy: \", a)\n",
    "    plt.plot(cost_list)\n",
    "    plt.show()"
   ]
  },
  {
   "cell_type": "code",
   "execution_count": null,
   "metadata": {},
   "outputs": [],
   "source": []
  }
 ],
 "metadata": {
  "kernelspec": {
   "display_name": "Python 3",
   "language": "python",
   "name": "python3"
  },
  "language_info": {
   "codemirror_mode": {
    "name": "ipython",
    "version": 3
   },
   "file_extension": ".py",
   "mimetype": "text/x-python",
   "name": "python",
   "nbconvert_exporter": "python",
   "pygments_lexer": "ipython3",
   "version": "3.6.2"
  }
 },
 "nbformat": 4,
 "nbformat_minor": 2
}
