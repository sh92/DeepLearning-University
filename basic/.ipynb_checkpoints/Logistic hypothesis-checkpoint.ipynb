{
 "cells": [
  {
   "cell_type": "code",
   "execution_count": 2,
   "metadata": {},
   "outputs": [],
   "source": [
    "import tensorflow as tf\n",
    "import matplotlib.pyplot as plt\n",
    "import numpy as np"
   ]
  },
  {
   "cell_type": "code",
   "execution_count": 3,
   "metadata": {},
   "outputs": [],
   "source": [
    "data = np.loadtxt(\"./magic.csv\", delimiter=\",\", dtype = np.float32)"
   ]
  },
  {
   "cell_type": "code",
   "execution_count": 4,
   "metadata": {},
   "outputs": [
    {
     "data": {
      "text/plain": [
       "15216.0"
      ]
     },
     "execution_count": 4,
     "metadata": {},
     "output_type": "execute_result"
    }
   ],
   "source": [
    "len(data)*4/5"
   ]
  },
  {
   "cell_type": "code",
   "execution_count": 5,
   "metadata": {},
   "outputs": [],
   "source": [
    "idx = int(len(data)*4/5)"
   ]
  },
  {
   "cell_type": "code",
   "execution_count": 6,
   "metadata": {},
   "outputs": [],
   "source": [
    "train_data = data[:idx]\n",
    "test_data = data[idx:]"
   ]
  },
  {
   "cell_type": "code",
   "execution_count": 7,
   "metadata": {},
   "outputs": [],
   "source": [
    "train_data_x = train_data[:, 0:-1]\n",
    "train_data_y = train_data[:, [-1]]"
   ]
  },
  {
   "cell_type": "code",
   "execution_count": 8,
   "metadata": {},
   "outputs": [],
   "source": [
    "test_data_x = test_data[:, 0:-1]\n",
    "test_data_y = test_data[:, [-1]]"
   ]
  },
  {
   "cell_type": "code",
   "execution_count": 9,
   "metadata": {},
   "outputs": [
    {
     "data": {
      "text/plain": [
       "(15216, 10)"
      ]
     },
     "execution_count": 9,
     "metadata": {},
     "output_type": "execute_result"
    }
   ],
   "source": [
    "train_data_x.shape"
   ]
  },
  {
   "cell_type": "code",
   "execution_count": 10,
   "metadata": {},
   "outputs": [
    {
     "data": {
      "text/plain": [
       "(15216, 1)"
      ]
     },
     "execution_count": 10,
     "metadata": {},
     "output_type": "execute_result"
    }
   ],
   "source": [
    "train_data_y.shape"
   ]
  },
  {
   "cell_type": "code",
   "execution_count": 11,
   "metadata": {},
   "outputs": [],
   "source": [
    "X = tf.placeholder(tf.float32, shape=[None, 10])\n",
    "Y = tf.placeholder(tf.float32, shape=[None, 2])\n",
    "\n",
    "W = tf.Variable(tf.random_normal([10, 2]), name='weight')\n",
    "b = tf.Variable(tf.random_normal([2]), name='bias')"
   ]
  },
  {
   "cell_type": "code",
   "execution_count": 12,
   "metadata": {},
   "outputs": [],
   "source": [
    "hypothesis = tf.sigmoid(tf.matmul(X, W) + b)\n",
    "cost = -tf.reduce_mean(Y * tf.log(hypothesis) + (1 - Y) *tf.log(1 - hypothesis))"
   ]
  },
  {
   "cell_type": "code",
   "execution_count": 13,
   "metadata": {},
   "outputs": [],
   "source": [
    "train = tf.train.GradientDescentOptimizer(learning_rate=0.01).minimize(cost)"
   ]
  },
  {
   "cell_type": "code",
   "execution_count": 14,
   "metadata": {},
   "outputs": [],
   "source": [
    "predicted = tf.cast(hypothesis > 0.5, dtype=tf.float32)\n",
    "accuracy = tf.reduce_mean(tf.cast(tf.equal(predicted, Y), dtype=tf.float32))"
   ]
  },
  {
   "cell_type": "code",
   "execution_count": 21,
   "metadata": {},
   "outputs": [
    {
     "name": "stdout",
     "output_type": "stream",
     "text": [
      "Steps 0  cost:  0.709977 \n",
      "Accuracy:  0.650894\n",
      "Steps 200  cost:  0.590992 \n",
      "Accuracy:  0.661212\n",
      "Steps 400  cost:  0.565549 \n",
      "Accuracy:  0.678693\n",
      "Steps 600  cost:  0.5585 \n",
      "Accuracy:  0.692692\n",
      "Steps 800  cost:  0.55437 \n",
      "Accuracy:  0.700776\n",
      "Steps 1000  cost:  0.550825 \n",
      "Accuracy:  0.706362\n",
      "Steps 1200  cost:  0.547536 \n",
      "Accuracy:  0.710765\n",
      "Steps 1400  cost:  0.544448 \n",
      "Accuracy:  0.715037\n",
      "Steps 1600  cost:  0.541538 \n",
      "Accuracy:  0.718389\n",
      "Steps 1800  cost:  0.538796 \n",
      "Accuracy:  0.721675\n",
      "Steps 2000  cost:  0.536208 \n",
      "Accuracy:  0.724303\n",
      "Steps 2200  cost:  0.533765 \n",
      "Accuracy:  0.726341\n",
      "Steps 2400  cost:  0.531455 \n",
      "Accuracy:  0.729035\n",
      "Steps 2600  cost:  0.52927 \n",
      "Accuracy:  0.73173\n",
      "Steps 2800  cost:  0.527201 \n",
      "Accuracy:  0.73541\n",
      "Steps 3000  cost:  0.52524 \n",
      "Accuracy:  0.737447\n",
      "Steps 3200  cost:  0.52338 \n",
      "Accuracy:  0.73863\n",
      "Steps 3400  cost:  0.521615 \n",
      "Accuracy:  0.740602\n",
      "Steps 3600  cost:  0.519938 \n",
      "Accuracy:  0.741588\n",
      "Steps 3800  cost:  0.518342 \n",
      "Accuracy:  0.743297\n",
      "Steps 4000  cost:  0.516823 \n",
      "Accuracy:  0.745137\n",
      "Steps 4200  cost:  0.515377 \n",
      "Accuracy:  0.745794\n",
      "Steps 4400  cost:  0.513997 \n",
      "Accuracy:  0.747108\n",
      "Steps 4600  cost:  0.512681 \n",
      "Accuracy:  0.748686\n",
      "Steps 4800  cost:  0.511424 \n",
      "Accuracy:  0.749606\n",
      "Steps 5000  cost:  0.510223 \n",
      "Accuracy:  0.75092\n",
      "Steps 5200  cost:  0.509073 \n",
      "Accuracy:  0.752432\n",
      "Steps 5400  cost:  0.507973 \n",
      "Accuracy:  0.753417\n",
      "Steps 5600  cost:  0.50692 \n",
      "Accuracy:  0.754272\n",
      "Steps 5800  cost:  0.505909 \n",
      "Accuracy:  0.7546\n",
      "Steps 6000  cost:  0.50494 \n",
      "Accuracy:  0.755718\n",
      "Steps 6200  cost:  0.50401 \n",
      "Accuracy:  0.756178\n",
      "Steps 6400  cost:  0.503116 \n",
      "Accuracy:  0.757229\n",
      "Steps 6600  cost:  0.502256 \n",
      "Accuracy:  0.757952\n",
      "Steps 6800  cost:  0.501429 \n",
      "Accuracy:  0.758478\n",
      "Steps 7000  cost:  0.500633 \n",
      "Accuracy:  0.759267\n",
      "Steps 7200  cost:  0.499867 \n",
      "Accuracy:  0.760252\n",
      "Steps 7400  cost:  0.499127 \n",
      "Accuracy:  0.760712\n",
      "Steps 7600  cost:  0.498414 \n",
      "Accuracy:  0.761501\n",
      "Steps 7800  cost:  0.497726 \n",
      "Accuracy:  0.76183\n",
      "Steps 8000  cost:  0.497062 \n",
      "Accuracy:  0.762421\n",
      "Steps 8200  cost:  0.49642 \n",
      "Accuracy:  0.763276\n",
      "Steps 8400  cost:  0.495799 \n",
      "Accuracy:  0.763867\n",
      "Steps 8600  cost:  0.495199 \n",
      "Accuracy:  0.764327\n",
      "Steps 8800  cost:  0.494618 \n",
      "Accuracy:  0.764458\n",
      "Steps 9000  cost:  0.494055 \n",
      "Accuracy:  0.765444\n",
      "Steps 9200  cost:  0.49351 \n",
      "Accuracy:  0.766101\n",
      "Steps 9400  cost:  0.492982 \n",
      "Accuracy:  0.766299\n",
      "Steps 9600  cost:  0.492469 \n",
      "Accuracy:  0.766759\n",
      "Steps 9800  cost:  0.491972 \n",
      "Accuracy:  0.766824\n",
      "Steps 10000  cost:  0.491489 \n",
      "Accuracy:  0.767416\n",
      "\n",
      "#### Test ####\n",
      "\n",
      "Hypothesis:  [[ 0.34729061]\n",
      " [ 0.78487331]\n",
      " [ 0.29534593]\n",
      " ..., \n",
      " [ 0.23948337]\n",
      " [ 0.16156277]\n",
      " [ 0.61187232]] \n",
      "Correct (Y):  [[ 0.]\n",
      " [ 1.]\n",
      " [ 0.]\n",
      " ..., \n",
      " [ 0.]\n",
      " [ 0.]\n",
      " [ 1.]] \n",
      "Accuracy:  0.749474\n"
     ]
    },
    {
     "data": {
      "image/png": "[encoded data removed]",
      "text/plain": [
       "<matplotlib.figure.Figure at 0x110bddb38>"
      ]
     },
     "metadata": {},
     "output_type": "display_data"
    }
   ],
   "source": [
    "cost_list=[]\n",
    "with tf.Session() as sess: \n",
    "    sess.run(tf.global_variables_initializer())\n",
    "    feed = {X: train_data_x, Y: train_data_y}\n",
    "    for step in range(10001):\n",
    "        sess.run(train, feed_dict=feed) \n",
    "        if step % 200 == 0:\n",
    "            c, a = sess.run([cost , accuracy], feed_dict=feed)\n",
    "            print(\"Steps\", step, \" cost: \", c, \"\\nAccuracy: \", a)\n",
    "            cost_list.append(c)\n",
    "    print(\"\")\n",
    "    print(\"#### Test ####\")\n",
    "    h, c, a = sess.run([hypothesis, predicted, accuracy], feed_dict={X:test_data_x, Y:test_data_y})\n",
    "    print(\"\\nAccuracy: \", a) #\"\\nHypothesis: \", h, \"\\nCorrect (Y): \", c,\n",
    "    plt.plot(cost_list)\n",
    "    plt.show()"
   ]
  },
  {
   "cell_type": "code",
   "execution_count": null,
   "metadata": {},
   "outputs": [],
   "source": []
  }
 ],
 "metadata": {
  "kernelspec": {
   "display_name": "Python 3",
   "language": "python",
   "name": "python3"
  },
  "language_info": {
   "codemirror_mode": {
    "name": "ipython",
    "version": 3
   },
   "file_extension": ".py",
   "mimetype": "text/x-python",
   "name": "python",
   "nbconvert_exporter": "python",
   "pygments_lexer": "ipython3",
   "version": "3.6.2"
  }
 },
 "nbformat": 4,
 "nbformat_minor": 2
}
