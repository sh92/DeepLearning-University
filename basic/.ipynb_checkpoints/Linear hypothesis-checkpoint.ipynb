{
 "cells": [
  {
   "cell_type": "code",
   "execution_count": 1,
   "metadata": {},
   "outputs": [],
   "source": [
    "import tensorflow as tf\n",
    "import matplotlib.pyplot as plt\n",
    "import numpy as np"
   ]
  },
  {
   "cell_type": "code",
   "execution_count": 2,
   "metadata": {},
   "outputs": [],
   "source": [
    "data = np.loadtxt(\"./magic.csv\", delimiter=\",\", dtype = np.float32)"
   ]
  },
  {
   "cell_type": "code",
   "execution_count": 3,
   "metadata": {},
   "outputs": [
    {
     "data": {
      "text/plain": [
       "15216.0"
      ]
     },
     "execution_count": 3,
     "metadata": {},
     "output_type": "execute_result"
    }
   ],
   "source": [
    "len(data)*4/5"
   ]
  },
  {
   "cell_type": "code",
   "execution_count": 4,
   "metadata": {},
   "outputs": [],
   "source": [
    "idx = int(len(data)*4/5)"
   ]
  },
  {
   "cell_type": "code",
   "execution_count": 5,
   "metadata": {},
   "outputs": [],
   "source": [
    "train_data = data[:idx]\n",
    "test_data = data[idx:]"
   ]
  },
  {
   "cell_type": "code",
   "execution_count": 6,
   "metadata": {},
   "outputs": [],
   "source": [
    "train_data_x = train_data[:, 0:-1]\n",
    "train_data_y = train_data[:, [-1]]"
   ]
  },
  {
   "cell_type": "code",
   "execution_count": 7,
   "metadata": {},
   "outputs": [],
   "source": [
    "test_data_x = test_data[:, 0:-1]\n",
    "test_data_y = test_data[:, [-1]]"
   ]
  },
  {
   "cell_type": "code",
   "execution_count": 8,
   "metadata": {},
   "outputs": [
    {
     "data": {
      "text/plain": [
       "(15216, 10)"
      ]
     },
     "execution_count": 8,
     "metadata": {},
     "output_type": "execute_result"
    }
   ],
   "source": [
    "train_data_x.shape"
   ]
  },
  {
   "cell_type": "code",
   "execution_count": 9,
   "metadata": {},
   "outputs": [
    {
     "data": {
      "text/plain": [
       "(15216, 1)"
      ]
     },
     "execution_count": 9,
     "metadata": {},
     "output_type": "execute_result"
    }
   ],
   "source": [
    "train_data_y.shape"
   ]
  },
  {
   "cell_type": "code",
   "execution_count": 10,
   "metadata": {},
   "outputs": [],
   "source": [
    "X = tf.placeholder(tf.float32, shape=[None, 10])\n",
    "Y = tf.placeholder(tf.float32, shape=[None, 1])\n",
    "\n",
    "W = tf.Variable(tf.random_normal([10, 1]), name='weight')\n",
    "b = tf.Variable(tf.random_normal([1]), name='bias')"
   ]
  },
  {
   "cell_type": "code",
   "execution_count": 11,
   "metadata": {},
   "outputs": [],
   "source": [
    "hypothesis = tf.matmul(X, W) + b\n",
    "cost = tf.reduce_mean(tf.square(hypothesis - Y))"
   ]
  },
  {
   "cell_type": "code",
   "execution_count": 12,
   "metadata": {},
   "outputs": [],
   "source": [
    "optimizer = tf.train.GradientDescentOptimizer(learning_rate=0.01)\n",
    "train = optimizer.minimize(cost)"
   ]
  },
  {
   "cell_type": "code",
   "execution_count": 13,
   "metadata": {},
   "outputs": [],
   "source": [
    "predicted = tf.cast(hypothesis > 0.5, dtype=tf.float32)\n",
    "accuracy = tf.reduce_mean(tf.cast(tf.equal(predicted, Y), dtype=tf.float32))"
   ]
  },
  {
   "cell_type": "code",
   "execution_count": 15,
   "metadata": {},
   "outputs": [
    {
     "name": "stdout",
     "output_type": "stream",
     "text": [
      "Steps 0  cost:  0.384392 \n",
      "Accuracy:  0.693283\n",
      "Steps 100  cost:  0.21581 \n",
      "Accuracy:  0.734293\n",
      "Steps 200  cost:  0.20999 \n",
      "Accuracy:  0.737119\n",
      "Steps 300  cost:  0.205616 \n",
      "Accuracy:  0.739945\n",
      "Steps 400  cost:  0.202207 \n",
      "Accuracy:  0.741193\n",
      "Steps 500  cost:  0.199455 \n",
      "Accuracy:  0.740865\n",
      "Steps 600  cost:  0.197159 \n",
      "Accuracy:  0.740668\n",
      "Steps 700  cost:  0.195186 \n",
      "Accuracy:  0.740273\n",
      "Steps 800  cost:  0.193449 \n",
      "Accuracy:  0.741588\n",
      "Steps 900  cost:  0.191889 \n",
      "Accuracy:  0.741719\n",
      "Steps 1000  cost:  0.190468 \n",
      "Accuracy:  0.742245\n",
      "Steps 1100  cost:  0.189157 \n",
      "Accuracy:  0.743165\n",
      "Steps 1200  cost:  0.187938 \n",
      "Accuracy:  0.744085\n",
      "Steps 1300  cost:  0.186797 \n",
      "Accuracy:  0.744019\n",
      "Steps 1400  cost:  0.185725 \n",
      "Accuracy:  0.744808\n",
      "Steps 1500  cost:  0.184714 \n",
      "Accuracy:  0.7454\n",
      "Steps 1600  cost:  0.183758 \n",
      "Accuracy:  0.746583\n",
      "Steps 1700  cost:  0.182852 \n",
      "Accuracy:  0.747963\n",
      "Steps 1800  cost:  0.181993 \n",
      "Accuracy:  0.749146\n",
      "Steps 1900  cost:  0.181175 \n",
      "Accuracy:  0.750263\n",
      "Steps 2000  cost:  0.180398 \n",
      "Accuracy:  0.751446\n",
      "Steps 2100  cost:  0.179657 \n",
      "Accuracy:  0.751709\n",
      "Steps 2200  cost:  0.178952 \n",
      "Accuracy:  0.752366\n",
      "Steps 2300  cost:  0.178278 \n",
      "Accuracy:  0.753417\n",
      "Steps 2400  cost:  0.177635 \n",
      "Accuracy:  0.754075\n",
      "Steps 2500  cost:  0.17702 \n",
      "Accuracy:  0.753746\n",
      "Steps 2600  cost:  0.176433 \n",
      "Accuracy:  0.75414\n",
      "Steps 2700  cost:  0.17587 \n",
      "Accuracy:  0.754272\n",
      "Steps 2800  cost:  0.175331 \n",
      "Accuracy:  0.754732\n",
      "Steps 2900  cost:  0.174815 \n",
      "Accuracy:  0.754863\n",
      "Steps 3000  cost:  0.17432 \n",
      "Accuracy:  0.754929\n",
      "Steps 3100  cost:  0.173844 \n",
      "Accuracy:  0.75506\n",
      "Steps 3200  cost:  0.173387 \n",
      "Accuracy:  0.755849\n",
      "Steps 3300  cost:  0.172948 \n",
      "Accuracy:  0.756441\n",
      "Steps 3400  cost:  0.172526 \n",
      "Accuracy:  0.757098\n",
      "Steps 3500  cost:  0.17212 \n",
      "Accuracy:  0.757755\n",
      "Steps 3600  cost:  0.171728 \n",
      "Accuracy:  0.758281\n",
      "Steps 3700  cost:  0.171351 \n",
      "Accuracy:  0.758412\n",
      "Steps 3800  cost:  0.170987 \n",
      "Accuracy:  0.757952\n",
      "Steps 3900  cost:  0.170636 \n",
      "Accuracy:  0.758149\n",
      "Steps 4000  cost:  0.170297 \n",
      "Accuracy:  0.758149\n",
      "Steps 4100  cost:  0.169969 \n",
      "Accuracy:  0.758675\n",
      "Steps 4200  cost:  0.169653 \n",
      "Accuracy:  0.758741\n",
      "Steps 4300  cost:  0.169346 \n",
      "Accuracy:  0.759398\n",
      "Steps 4400  cost:  0.16905 \n",
      "Accuracy:  0.759858\n",
      "Steps 4500  cost:  0.168762 \n",
      "Accuracy:  0.760384\n",
      "Steps 4600  cost:  0.168484 \n",
      "Accuracy:  0.760384\n",
      "Steps 4700  cost:  0.168214 \n",
      "Accuracy:  0.760712\n",
      "Steps 4800  cost:  0.167952 \n",
      "Accuracy:  0.76091\n",
      "Steps 4900  cost:  0.167698 \n",
      "Accuracy:  0.761172\n",
      "Steps 5000  cost:  0.167451 \n",
      "Accuracy:  0.761633\n",
      "Steps 5100  cost:  0.167211 \n",
      "Accuracy:  0.761501\n",
      "Steps 5200  cost:  0.166977 \n",
      "Accuracy:  0.761895\n",
      "Steps 5300  cost:  0.16675 \n",
      "Accuracy:  0.762355\n",
      "Steps 5400  cost:  0.166529 \n",
      "Accuracy:  0.762684\n",
      "Steps 5500  cost:  0.166314 \n",
      "Accuracy:  0.76321\n",
      "Steps 5600  cost:  0.166105 \n",
      "Accuracy:  0.763604\n",
      "Steps 5700  cost:  0.165901 \n",
      "Accuracy:  0.763736\n",
      "Steps 5800  cost:  0.165702 \n",
      "Accuracy:  0.763801\n",
      "Steps 5900  cost:  0.165508 \n",
      "Accuracy:  0.764196\n",
      "Steps 6000  cost:  0.165318 \n",
      "Accuracy:  0.764524\n",
      "Steps 6100  cost:  0.165133 \n",
      "Accuracy:  0.76459\n",
      "Steps 6200  cost:  0.164953 \n",
      "Accuracy:  0.764853\n",
      "Steps 6300  cost:  0.164777 \n",
      "Accuracy:  0.765116\n",
      "Steps 6400  cost:  0.164605 \n",
      "Accuracy:  0.765444\n",
      "Steps 6500  cost:  0.164436 \n",
      "Accuracy:  0.76551\n",
      "Steps 6600  cost:  0.164272 \n",
      "Accuracy:  0.765707\n",
      "Steps 6700  cost:  0.164111 \n",
      "Accuracy:  0.765904\n",
      "Steps 6800  cost:  0.163953 \n",
      "Accuracy:  0.766299\n",
      "Steps 6900  cost:  0.163799 \n",
      "Accuracy:  0.766627\n",
      "Steps 7000  cost:  0.163648 \n",
      "Accuracy:  0.766824\n",
      "Steps 7100  cost:  0.1635 \n",
      "Accuracy:  0.767022\n",
      "Steps 7200  cost:  0.163355 \n",
      "Accuracy:  0.767153\n",
      "Steps 7300  cost:  0.163214 \n",
      "Accuracy:  0.767022\n",
      "Steps 7400  cost:  0.163074 \n",
      "Accuracy:  0.76735\n",
      "Steps 7500  cost:  0.162938 \n",
      "Accuracy:  0.767613\n",
      "Steps 7600  cost:  0.162805 \n",
      "Accuracy:  0.767482\n",
      "Steps 7700  cost:  0.162674 \n",
      "Accuracy:  0.767613\n",
      "Steps 7800  cost:  0.162545 \n",
      "Accuracy:  0.767744\n",
      "Steps 7900  cost:  0.162419 \n",
      "Accuracy:  0.767876\n",
      "Steps 8000  cost:  0.162295 \n",
      "Accuracy:  0.768205\n",
      "Steps 8100  cost:  0.162173 \n",
      "Accuracy:  0.768336\n",
      "Steps 8200  cost:  0.162054 \n",
      "Accuracy:  0.768467\n",
      "Steps 8300  cost:  0.161937 \n",
      "Accuracy:  0.76873\n",
      "Steps 8400  cost:  0.161822 \n",
      "Accuracy:  0.768862\n",
      "Steps 8500  cost:  0.161709 \n",
      "Accuracy:  0.768993\n",
      "Steps 8600  cost:  0.161597 \n",
      "Accuracy:  0.769059\n",
      "Steps 8700  cost:  0.161488 \n",
      "Accuracy:  0.76919\n",
      "Steps 8800  cost:  0.161381 \n",
      "Accuracy:  0.769322\n",
      "Steps 8900  cost:  0.161275 \n",
      "Accuracy:  0.769585\n",
      "Steps 9000  cost:  0.161171 \n",
      "Accuracy:  0.769716\n",
      "Steps 9100  cost:  0.161069 \n",
      "Accuracy:  0.769848\n",
      "Steps 9200  cost:  0.160969 \n",
      "Accuracy:  0.77011\n",
      "Steps 9300  cost:  0.16087 \n",
      "Accuracy:  0.77011\n",
      "Steps 9400  cost:  0.160773 \n",
      "Accuracy:  0.770242\n",
      "Steps 9500  cost:  0.160678 \n",
      "Accuracy:  0.770636\n",
      "Steps 9600  cost:  0.160584 \n",
      "Accuracy:  0.770899\n",
      "Steps 9700  cost:  0.160491 \n",
      "Accuracy:  0.771096\n",
      "Steps 9800  cost:  0.1604 \n",
      "Accuracy:  0.770965\n",
      "Steps 9900  cost:  0.16031 \n",
      "Accuracy:  0.770965\n",
      "Steps 10000  cost:  0.160222 \n",
      "Accuracy:  0.77103\n",
      "\n",
      "#### Test ####\n",
      "\n",
      "Hypothesis:  [[ 0.30453843]\n",
      " [ 0.82419336]\n",
      " [ 0.33769846]\n",
      " ..., \n",
      " [ 0.19512197]\n",
      " [ 0.17329927]\n",
      " [ 0.66722292]] \n",
      "Correct (Y):  [[ 0.]\n",
      " [ 1.]\n",
      " [ 0.]\n",
      " ..., \n",
      " [ 0.]\n",
      " [ 0.]\n",
      " [ 1.]] \n",
      "Accuracy:  0.761567\n"
     ]
    },
    {
     "data": {
      "image/png": "[encoded data removed]",
      "text/plain": [
       "<matplotlib.figure.Figure at 0x117809d30>"
      ]
     },
     "metadata": {},
     "output_type": "display_data"
    }
   ],
   "source": [
    "cost_list=[]\n",
    "with tf.Session() as sess: \n",
    "    sess.run(tf.global_variables_initializer())\n",
    "    feed = {X: train_data_x, Y: train_data_y}\n",
    "    for step in range(10001):\n",
    "        sess.run(train, feed_dict=feed) \n",
    "        if step % 100 == 0:\n",
    "            c, a = sess.run([cost , accuracy], feed_dict=feed)\n",
    "            print(\"Steps\", step, \" cost: \", c, \"\\nAccuracy: \", a)\n",
    "            cost_list.append(c)\n",
    "    print(\"\")\n",
    "    print(\"#### Test ####\")\n",
    "    h, c, a = sess.run([hypothesis, predicted, accuracy], feed_dict={X:test_data_x, Y:test_data_y})\n",
    "    print(\"\\nAccuracy: \", a)\n",
    "    \n",
    "    plt.plot(cost_list)\n",
    "    plt.show()"
   ]
  },
  {
   "cell_type": "code",
   "execution_count": null,
   "metadata": {},
   "outputs": [],
   "source": []
  }
 ],
 "metadata": {
  "kernelspec": {
   "display_name": "Python 3",
   "language": "python",
   "name": "python3"
  },
  "language_info": {
   "codemirror_mode": {
    "name": "ipython",
    "version": 3
   },
   "file_extension": ".py",
   "mimetype": "text/x-python",
   "name": "python",
   "nbconvert_exporter": "python",
   "pygments_lexer": "ipython3",
   "version": "3.6.2"
  }
 },
 "nbformat": 4,
 "nbformat_minor": 2
}
